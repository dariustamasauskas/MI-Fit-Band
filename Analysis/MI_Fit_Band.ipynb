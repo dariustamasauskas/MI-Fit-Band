{
 "cells": [
  {
   "cell_type": "markdown",
   "metadata": {},
   "source": [
    "## Import packages"
   ]
  },
  {
   "cell_type": "code",
   "execution_count": 1,
   "metadata": {},
   "outputs": [],
   "source": [
    "import pandas as pd\n",
    "import numpy as np\n",
    "import datetime"
   ]
  },
  {
   "cell_type": "markdown",
   "metadata": {},
   "source": [
    "## Load data"
   ]
  },
  {
   "cell_type": "code",
   "execution_count": 2,
   "metadata": {},
   "outputs": [],
   "source": [
    "activity_data = pd.read_csv('../Raw Data/ACTIVITY.csv')"
   ]
  },
  {
   "cell_type": "code",
   "execution_count": 3,
   "metadata": {},
   "outputs": [
    {
     "data": {
      "text/plain": [
       "(66, 6)"
      ]
     },
     "execution_count": 3,
     "metadata": {},
     "output_type": "execute_result"
    }
   ],
   "source": [
    "activity_data.shape"
   ]
  },
  {
   "cell_type": "code",
   "execution_count": 4,
   "metadata": {},
   "outputs": [
    {
     "data": {
      "text/html": [
       "<div>\n",
       "<style scoped>\n",
       "    .dataframe tbody tr th:only-of-type {\n",
       "        vertical-align: middle;\n",
       "    }\n",
       "\n",
       "    .dataframe tbody tr th {\n",
       "        vertical-align: top;\n",
       "    }\n",
       "\n",
       "    .dataframe thead th {\n",
       "        text-align: right;\n",
       "    }\n",
       "</style>\n",
       "<table border=\"1\" class=\"dataframe\">\n",
       "  <thead>\n",
       "    <tr style=\"text-align: right;\">\n",
       "      <th></th>\n",
       "      <th>date</th>\n",
       "      <th>lastSyncTime</th>\n",
       "      <th>steps</th>\n",
       "      <th>distance</th>\n",
       "      <th>runDistance</th>\n",
       "      <th>calories</th>\n",
       "    </tr>\n",
       "  </thead>\n",
       "  <tbody>\n",
       "    <tr>\n",
       "      <th>61</th>\n",
       "      <td>2019-06-12</td>\n",
       "      <td>1560540959</td>\n",
       "      <td>5274</td>\n",
       "      <td>3750</td>\n",
       "      <td>227</td>\n",
       "      <td>146</td>\n",
       "    </tr>\n",
       "    <tr>\n",
       "      <th>62</th>\n",
       "      <td>2019-06-13</td>\n",
       "      <td>1560540959</td>\n",
       "      <td>10912</td>\n",
       "      <td>8100</td>\n",
       "      <td>462</td>\n",
       "      <td>312</td>\n",
       "    </tr>\n",
       "    <tr>\n",
       "      <th>63</th>\n",
       "      <td>2019-06-14</td>\n",
       "      <td>1560672639</td>\n",
       "      <td>15387</td>\n",
       "      <td>11922</td>\n",
       "      <td>2191</td>\n",
       "      <td>510</td>\n",
       "    </tr>\n",
       "    <tr>\n",
       "      <th>64</th>\n",
       "      <td>2019-06-15</td>\n",
       "      <td>1560672640</td>\n",
       "      <td>14261</td>\n",
       "      <td>9890</td>\n",
       "      <td>456</td>\n",
       "      <td>364</td>\n",
       "    </tr>\n",
       "    <tr>\n",
       "      <th>65</th>\n",
       "      <td>2019-06-16</td>\n",
       "      <td>1560692298</td>\n",
       "      <td>2026</td>\n",
       "      <td>1378</td>\n",
       "      <td>214</td>\n",
       "      <td>58</td>\n",
       "    </tr>\n",
       "  </tbody>\n",
       "</table>\n",
       "</div>"
      ],
      "text/plain": [
       "          date  lastSyncTime  steps  distance  runDistance  calories\n",
       "61  2019-06-12    1560540959   5274      3750          227       146\n",
       "62  2019-06-13    1560540959  10912      8100          462       312\n",
       "63  2019-06-14    1560672639  15387     11922         2191       510\n",
       "64  2019-06-15    1560672640  14261      9890          456       364\n",
       "65  2019-06-16    1560692298   2026      1378          214        58"
      ]
     },
     "execution_count": 4,
     "metadata": {},
     "output_type": "execute_result"
    }
   ],
   "source": [
    "activity_data.tail()"
   ]
  },
  {
   "cell_type": "code",
   "execution_count": 5,
   "metadata": {},
   "outputs": [],
   "source": [
    "sleep_data = pd.read_csv('../Raw Data/SLEEP.csv')"
   ]
  },
  {
   "cell_type": "code",
   "execution_count": 6,
   "metadata": {},
   "outputs": [
    {
     "data": {
      "text/plain": [
       "(66, 7)"
      ]
     },
     "execution_count": 6,
     "metadata": {},
     "output_type": "execute_result"
    }
   ],
   "source": [
    "sleep_data.shape"
   ]
  },
  {
   "cell_type": "code",
   "execution_count": 7,
   "metadata": {},
   "outputs": [
    {
     "data": {
      "text/html": [
       "<div>\n",
       "<style scoped>\n",
       "    .dataframe tbody tr th:only-of-type {\n",
       "        vertical-align: middle;\n",
       "    }\n",
       "\n",
       "    .dataframe tbody tr th {\n",
       "        vertical-align: top;\n",
       "    }\n",
       "\n",
       "    .dataframe thead th {\n",
       "        text-align: right;\n",
       "    }\n",
       "</style>\n",
       "<table border=\"1\" class=\"dataframe\">\n",
       "  <thead>\n",
       "    <tr style=\"text-align: right;\">\n",
       "      <th></th>\n",
       "      <th>date</th>\n",
       "      <th>lastSyncTime</th>\n",
       "      <th>deepSleepTime</th>\n",
       "      <th>shallowSleepTime</th>\n",
       "      <th>wakeTime</th>\n",
       "      <th>start</th>\n",
       "      <th>stop</th>\n",
       "    </tr>\n",
       "  </thead>\n",
       "  <tbody>\n",
       "    <tr>\n",
       "      <th>0</th>\n",
       "      <td>2019-04-12</td>\n",
       "      <td>1555128688</td>\n",
       "      <td>0</td>\n",
       "      <td>0</td>\n",
       "      <td>0</td>\n",
       "      <td>1554930000</td>\n",
       "      <td>1554930000</td>\n",
       "    </tr>\n",
       "    <tr>\n",
       "      <th>1</th>\n",
       "      <td>2019-04-13</td>\n",
       "      <td>1555256891</td>\n",
       "      <td>0</td>\n",
       "      <td>0</td>\n",
       "      <td>0</td>\n",
       "      <td>1555016400</td>\n",
       "      <td>1555016400</td>\n",
       "    </tr>\n",
       "    <tr>\n",
       "      <th>2</th>\n",
       "      <td>2019-04-14</td>\n",
       "      <td>1555302659</td>\n",
       "      <td>0</td>\n",
       "      <td>0</td>\n",
       "      <td>0</td>\n",
       "      <td>1555102800</td>\n",
       "      <td>1555102800</td>\n",
       "    </tr>\n",
       "    <tr>\n",
       "      <th>3</th>\n",
       "      <td>2019-04-15</td>\n",
       "      <td>1555384520</td>\n",
       "      <td>156</td>\n",
       "      <td>287</td>\n",
       "      <td>0</td>\n",
       "      <td>1555273620</td>\n",
       "      <td>1555300200</td>\n",
       "    </tr>\n",
       "    <tr>\n",
       "      <th>4</th>\n",
       "      <td>2019-04-16</td>\n",
       "      <td>1555473482</td>\n",
       "      <td>203</td>\n",
       "      <td>307</td>\n",
       "      <td>2</td>\n",
       "      <td>1555353480</td>\n",
       "      <td>1555384200</td>\n",
       "    </tr>\n",
       "  </tbody>\n",
       "</table>\n",
       "</div>"
      ],
      "text/plain": [
       "         date  lastSyncTime  deepSleepTime  shallowSleepTime  wakeTime  \\\n",
       "0  2019-04-12    1555128688              0                 0         0   \n",
       "1  2019-04-13    1555256891              0                 0         0   \n",
       "2  2019-04-14    1555302659              0                 0         0   \n",
       "3  2019-04-15    1555384520            156               287         0   \n",
       "4  2019-04-16    1555473482            203               307         2   \n",
       "\n",
       "        start        stop  \n",
       "0  1554930000  1554930000  \n",
       "1  1555016400  1555016400  \n",
       "2  1555102800  1555102800  \n",
       "3  1555273620  1555300200  \n",
       "4  1555353480  1555384200  "
      ]
     },
     "execution_count": 7,
     "metadata": {},
     "output_type": "execute_result"
    }
   ],
   "source": [
    "sleep_data.head()"
   ]
  },
  {
   "cell_type": "code",
   "execution_count": 8,
   "metadata": {},
   "outputs": [],
   "source": [
    "huawei_data = pd.read_excel('../Raw Data/HUAWEI.xlsx', sheet_name='Sheet1')"
   ]
  },
  {
   "cell_type": "code",
   "execution_count": 9,
   "metadata": {},
   "outputs": [
    {
     "data": {
      "text/plain": [
       "(66, 4)"
      ]
     },
     "execution_count": 9,
     "metadata": {},
     "output_type": "execute_result"
    }
   ],
   "source": [
    "huawei_data.shape"
   ]
  },
  {
   "cell_type": "code",
   "execution_count": 10,
   "metadata": {},
   "outputs": [
    {
     "data": {
      "text/html": [
       "<div>\n",
       "<style scoped>\n",
       "    .dataframe tbody tr th:only-of-type {\n",
       "        vertical-align: middle;\n",
       "    }\n",
       "\n",
       "    .dataframe tbody tr th {\n",
       "        vertical-align: top;\n",
       "    }\n",
       "\n",
       "    .dataframe thead th {\n",
       "        text-align: right;\n",
       "    }\n",
       "</style>\n",
       "<table border=\"1\" class=\"dataframe\">\n",
       "  <thead>\n",
       "    <tr style=\"text-align: right;\">\n",
       "      <th></th>\n",
       "      <th>date</th>\n",
       "      <th>steps</th>\n",
       "      <th>distance</th>\n",
       "      <th>calories</th>\n",
       "    </tr>\n",
       "  </thead>\n",
       "  <tbody>\n",
       "    <tr>\n",
       "      <th>0</th>\n",
       "      <td>2019-04-12</td>\n",
       "      <td>3672</td>\n",
       "      <td>2.78</td>\n",
       "      <td>119</td>\n",
       "    </tr>\n",
       "    <tr>\n",
       "      <th>1</th>\n",
       "      <td>2019-04-13</td>\n",
       "      <td>5223</td>\n",
       "      <td>3.95</td>\n",
       "      <td>170</td>\n",
       "    </tr>\n",
       "    <tr>\n",
       "      <th>2</th>\n",
       "      <td>2019-04-14</td>\n",
       "      <td>1682</td>\n",
       "      <td>1.27</td>\n",
       "      <td>55</td>\n",
       "    </tr>\n",
       "    <tr>\n",
       "      <th>3</th>\n",
       "      <td>2019-04-15</td>\n",
       "      <td>2713</td>\n",
       "      <td>2.05</td>\n",
       "      <td>92</td>\n",
       "    </tr>\n",
       "    <tr>\n",
       "      <th>4</th>\n",
       "      <td>2019-04-16</td>\n",
       "      <td>16007</td>\n",
       "      <td>12.10</td>\n",
       "      <td>545</td>\n",
       "    </tr>\n",
       "  </tbody>\n",
       "</table>\n",
       "</div>"
      ],
      "text/plain": [
       "        date  steps  distance  calories\n",
       "0 2019-04-12   3672      2.78       119\n",
       "1 2019-04-13   5223      3.95       170\n",
       "2 2019-04-14   1682      1.27        55\n",
       "3 2019-04-15   2713      2.05        92\n",
       "4 2019-04-16  16007     12.10       545"
      ]
     },
     "execution_count": 10,
     "metadata": {},
     "output_type": "execute_result"
    }
   ],
   "source": [
    "huawei_data.head()"
   ]
  },
  {
   "cell_type": "markdown",
   "metadata": {},
   "source": [
    "## Data preparation"
   ]
  },
  {
   "cell_type": "markdown",
   "metadata": {},
   "source": [
    "### Merging data"
   ]
  },
  {
   "cell_type": "code",
   "execution_count": 11,
   "metadata": {},
   "outputs": [],
   "source": [
    "activity_data['date'] = pd.to_datetime(activity_data['date'])\n",
    "sleep_data['date'] = pd.to_datetime(sleep_data['date'])"
   ]
  },
  {
   "cell_type": "code",
   "execution_count": 12,
   "metadata": {},
   "outputs": [],
   "source": [
    "merged_data_temp = pd.merge(activity_data, sleep_data, on='date', how='inner')\n",
    "merged_data = pd.merge(merged_data_temp, huawei_data, on='date', how='inner')"
   ]
  },
  {
   "cell_type": "code",
   "execution_count": 13,
   "metadata": {},
   "outputs": [
    {
     "data": {
      "text/plain": [
       "(66, 15)"
      ]
     },
     "execution_count": 13,
     "metadata": {},
     "output_type": "execute_result"
    }
   ],
   "source": [
    "merged_data.shape"
   ]
  },
  {
   "cell_type": "markdown",
   "metadata": {},
   "source": [
    "### Selecting and renaming columns"
   ]
  },
  {
   "cell_type": "code",
   "execution_count": 14,
   "metadata": {},
   "outputs": [],
   "source": [
    "merged_data = merged_data[['date','start','stop','deepSleepTime','shallowSleepTime','wakeTime',\n",
    "                           'steps_x','distance_x','calories_x','steps_y','distance_y','calories_y']]"
   ]
  },
  {
   "cell_type": "code",
   "execution_count": 15,
   "metadata": {},
   "outputs": [],
   "source": [
    "merged_data = merged_data.rename(columns={'start':'startSleep','stop':'stopSleep',\n",
    "                                          'steps_x':'stepsMiFit','distance_x':'distanceMiFit','calories_x':'caloriesMiFit',\n",
    "                                          'steps_y':'stepsHuawei','distance_y':'distanceHuawei','calories_y':'caloriesHuawei',})"
   ]
  },
  {
   "cell_type": "markdown",
   "metadata": {},
   "source": [
    "### Filtering and indexing data"
   ]
  },
  {
   "cell_type": "code",
   "execution_count": 16,
   "metadata": {},
   "outputs": [],
   "source": [
    "merged_data = merged_data[(merged_data['date'] > '2019-04-14') & (merged_data['date'] < '2019-06-16')]"
   ]
  },
  {
   "cell_type": "code",
   "execution_count": 17,
   "metadata": {},
   "outputs": [],
   "source": [
    "merged_data.set_index('date', inplace = True)"
   ]
  },
  {
   "cell_type": "code",
   "execution_count": 18,
   "metadata": {},
   "outputs": [
    {
     "data": {
      "text/plain": [
       "(62, 11)"
      ]
     },
     "execution_count": 18,
     "metadata": {},
     "output_type": "execute_result"
    }
   ],
   "source": [
    "merged_data.shape"
   ]
  },
  {
   "cell_type": "markdown",
   "metadata": {},
   "source": [
    "### Fixing columns types"
   ]
  },
  {
   "cell_type": "code",
   "execution_count": 19,
   "metadata": {},
   "outputs": [],
   "source": [
    "merged_data['startSleep'] = pd.to_datetime(merged_data['startSleep'], unit='s')\n",
    "merged_data['stopSleep'] = pd.to_datetime(merged_data['stopSleep'], unit='s')"
   ]
  },
  {
   "cell_type": "code",
   "execution_count": 20,
   "metadata": {},
   "outputs": [],
   "source": [
    "merged_data['startSleep'] = merged_data['startSleep'] + datetime.timedelta(hours=3)\n",
    "merged_data['stopSleep'] = merged_data['stopSleep'] + datetime.timedelta(hours=3)"
   ]
  },
  {
   "cell_type": "code",
   "execution_count": 21,
   "metadata": {},
   "outputs": [],
   "source": [
    "merged_data['distanceHuawei'] = merged_data['distanceHuawei'] * 1000\n",
    "merged_data['distanceHuawei'] = merged_data['distanceHuawei'].astype(int)"
   ]
  },
  {
   "cell_type": "markdown",
   "metadata": {},
   "source": [
    "### Creating new features"
   ]
  },
  {
   "cell_type": "code",
   "execution_count": 22,
   "metadata": {},
   "outputs": [],
   "source": [
    "merged_data['weekday'] = merged_data.index.dayofweek"
   ]
  },
  {
   "cell_type": "code",
   "execution_count": 23,
   "metadata": {},
   "outputs": [],
   "source": [
    "merged_data['totalSleepTime'] = (merged_data['stopSleep'] - merged_data['startSleep']).dt.total_seconds() / 60\n",
    "merged_data['totalSleepTime'] = merged_data['totalSleepTime'].astype(int)"
   ]
  },
  {
   "cell_type": "code",
   "execution_count": 24,
   "metadata": {},
   "outputs": [
    {
     "data": {
      "text/plain": [
       "(62, 13)"
      ]
     },
     "execution_count": 24,
     "metadata": {},
     "output_type": "execute_result"
    }
   ],
   "source": [
    "merged_data.shape"
   ]
  },
  {
   "cell_type": "code",
   "execution_count": 25,
   "metadata": {},
   "outputs": [
    {
     "data": {
      "text/html": [
       "<div>\n",
       "<style scoped>\n",
       "    .dataframe tbody tr th:only-of-type {\n",
       "        vertical-align: middle;\n",
       "    }\n",
       "\n",
       "    .dataframe tbody tr th {\n",
       "        vertical-align: top;\n",
       "    }\n",
       "\n",
       "    .dataframe thead th {\n",
       "        text-align: right;\n",
       "    }\n",
       "</style>\n",
       "<table border=\"1\" class=\"dataframe\">\n",
       "  <thead>\n",
       "    <tr style=\"text-align: right;\">\n",
       "      <th></th>\n",
       "      <th>startSleep</th>\n",
       "      <th>stopSleep</th>\n",
       "      <th>deepSleepTime</th>\n",
       "      <th>shallowSleepTime</th>\n",
       "      <th>wakeTime</th>\n",
       "      <th>stepsMiFit</th>\n",
       "      <th>distanceMiFit</th>\n",
       "      <th>caloriesMiFit</th>\n",
       "      <th>stepsHuawei</th>\n",
       "      <th>distanceHuawei</th>\n",
       "      <th>caloriesHuawei</th>\n",
       "      <th>weekday</th>\n",
       "      <th>totalSleepTime</th>\n",
       "    </tr>\n",
       "    <tr>\n",
       "      <th>date</th>\n",
       "      <th></th>\n",
       "      <th></th>\n",
       "      <th></th>\n",
       "      <th></th>\n",
       "      <th></th>\n",
       "      <th></th>\n",
       "      <th></th>\n",
       "      <th></th>\n",
       "      <th></th>\n",
       "      <th></th>\n",
       "      <th></th>\n",
       "      <th></th>\n",
       "      <th></th>\n",
       "    </tr>\n",
       "  </thead>\n",
       "  <tbody>\n",
       "    <tr>\n",
       "      <th>2019-04-15</th>\n",
       "      <td>2019-04-14 23:27:00</td>\n",
       "      <td>2019-04-15 06:50:00</td>\n",
       "      <td>156</td>\n",
       "      <td>287</td>\n",
       "      <td>0</td>\n",
       "      <td>6158</td>\n",
       "      <td>4287</td>\n",
       "      <td>167</td>\n",
       "      <td>2713</td>\n",
       "      <td>2050</td>\n",
       "      <td>92</td>\n",
       "      <td>0</td>\n",
       "      <td>443</td>\n",
       "    </tr>\n",
       "    <tr>\n",
       "      <th>2019-04-16</th>\n",
       "      <td>2019-04-15 21:38:00</td>\n",
       "      <td>2019-04-16 06:10:00</td>\n",
       "      <td>203</td>\n",
       "      <td>307</td>\n",
       "      <td>2</td>\n",
       "      <td>17791</td>\n",
       "      <td>13677</td>\n",
       "      <td>561</td>\n",
       "      <td>16007</td>\n",
       "      <td>12100</td>\n",
       "      <td>545</td>\n",
       "      <td>1</td>\n",
       "      <td>512</td>\n",
       "    </tr>\n",
       "    <tr>\n",
       "      <th>2019-04-17</th>\n",
       "      <td>2019-04-16 22:53:00</td>\n",
       "      <td>2019-04-17 06:57:00</td>\n",
       "      <td>195</td>\n",
       "      <td>289</td>\n",
       "      <td>0</td>\n",
       "      <td>4889</td>\n",
       "      <td>3513</td>\n",
       "      <td>146</td>\n",
       "      <td>3164</td>\n",
       "      <td>2390</td>\n",
       "      <td>108</td>\n",
       "      <td>2</td>\n",
       "      <td>484</td>\n",
       "    </tr>\n",
       "    <tr>\n",
       "      <th>2019-04-18</th>\n",
       "      <td>2019-04-17 21:06:00</td>\n",
       "      <td>2019-04-18 06:41:00</td>\n",
       "      <td>277</td>\n",
       "      <td>298</td>\n",
       "      <td>0</td>\n",
       "      <td>13788</td>\n",
       "      <td>10476</td>\n",
       "      <td>429</td>\n",
       "      <td>10588</td>\n",
       "      <td>8000</td>\n",
       "      <td>360</td>\n",
       "      <td>3</td>\n",
       "      <td>575</td>\n",
       "    </tr>\n",
       "    <tr>\n",
       "      <th>2019-04-19</th>\n",
       "      <td>2019-04-18 23:58:00</td>\n",
       "      <td>2019-04-19 06:48:00</td>\n",
       "      <td>182</td>\n",
       "      <td>163</td>\n",
       "      <td>65</td>\n",
       "      <td>6303</td>\n",
       "      <td>4437</td>\n",
       "      <td>170</td>\n",
       "      <td>2967</td>\n",
       "      <td>2240</td>\n",
       "      <td>101</td>\n",
       "      <td>4</td>\n",
       "      <td>410</td>\n",
       "    </tr>\n",
       "  </tbody>\n",
       "</table>\n",
       "</div>"
      ],
      "text/plain": [
       "                    startSleep           stopSleep  deepSleepTime  \\\n",
       "date                                                                \n",
       "2019-04-15 2019-04-14 23:27:00 2019-04-15 06:50:00            156   \n",
       "2019-04-16 2019-04-15 21:38:00 2019-04-16 06:10:00            203   \n",
       "2019-04-17 2019-04-16 22:53:00 2019-04-17 06:57:00            195   \n",
       "2019-04-18 2019-04-17 21:06:00 2019-04-18 06:41:00            277   \n",
       "2019-04-19 2019-04-18 23:58:00 2019-04-19 06:48:00            182   \n",
       "\n",
       "            shallowSleepTime  wakeTime  stepsMiFit  distanceMiFit  \\\n",
       "date                                                                \n",
       "2019-04-15               287         0        6158           4287   \n",
       "2019-04-16               307         2       17791          13677   \n",
       "2019-04-17               289         0        4889           3513   \n",
       "2019-04-18               298         0       13788          10476   \n",
       "2019-04-19               163        65        6303           4437   \n",
       "\n",
       "            caloriesMiFit  stepsHuawei  distanceHuawei  caloriesHuawei  \\\n",
       "date                                                                     \n",
       "2019-04-15            167         2713            2050              92   \n",
       "2019-04-16            561        16007           12100             545   \n",
       "2019-04-17            146         3164            2390             108   \n",
       "2019-04-18            429        10588            8000             360   \n",
       "2019-04-19            170         2967            2240             101   \n",
       "\n",
       "            weekday  totalSleepTime  \n",
       "date                                 \n",
       "2019-04-15        0             443  \n",
       "2019-04-16        1             512  \n",
       "2019-04-17        2             484  \n",
       "2019-04-18        3             575  \n",
       "2019-04-19        4             410  "
      ]
     },
     "execution_count": 25,
     "metadata": {},
     "output_type": "execute_result"
    }
   ],
   "source": [
    "merged_data.head()"
   ]
  },
  {
   "cell_type": "markdown",
   "metadata": {},
   "source": [
    "## Data analysis"
   ]
  },
  {
   "cell_type": "markdown",
   "metadata": {},
   "source": [
    "- Understand what % of time Huawei phone is idle compared to MI Fit Band"
   ]
  },
  {
   "cell_type": "code",
   "execution_count": 26,
   "metadata": {},
   "outputs": [
    {
     "data": {
      "text/plain": [
       "0.725455786118589"
      ]
     },
     "execution_count": 26,
     "metadata": {},
     "output_type": "execute_result"
    }
   ],
   "source": [
    "merged_data['stepsHuawei'].sum() / merged_data['stepsMiFit'].sum()"
   ]
  },
  {
   "cell_type": "code",
   "execution_count": 27,
   "metadata": {},
   "outputs": [
    {
     "data": {
      "text/plain": [
       "0.7644052679567414"
      ]
     },
     "execution_count": 27,
     "metadata": {},
     "output_type": "execute_result"
    }
   ],
   "source": [
    "merged_data['distanceHuawei'].sum() / merged_data['distanceMiFit'].sum()"
   ]
  },
  {
   "cell_type": "code",
   "execution_count": 28,
   "metadata": {},
   "outputs": [
    {
     "data": {
      "text/plain": [
       "0.8993223620522749"
      ]
     },
     "execution_count": 28,
     "metadata": {},
     "output_type": "execute_result"
    }
   ],
   "source": [
    "merged_data['caloriesHuawei'].sum() / merged_data['caloriesMiFit'].sum()"
   ]
  },
  {
   "cell_type": "markdown",
   "metadata": {},
   "source": [
    "- Understand if ratio between steps/distance/calories is the same for phone and band"
   ]
  },
  {
   "cell_type": "code",
   "execution_count": 29,
   "metadata": {},
   "outputs": [
    {
     "data": {
      "text/plain": [
       "0.755625193400559"
      ]
     },
     "execution_count": 29,
     "metadata": {},
     "output_type": "execute_result"
    }
   ],
   "source": [
    "merged_data['distanceHuawei'].sum() / merged_data['stepsHuawei'].sum()"
   ]
  },
  {
   "cell_type": "code",
   "execution_count": 30,
   "metadata": {},
   "outputs": [
    {
     "data": {
      "text/plain": [
       "0.7171230912035461"
      ]
     },
     "execution_count": 30,
     "metadata": {},
     "output_type": "execute_result"
    }
   ],
   "source": [
    "merged_data['distanceMiFit'].sum() / merged_data['stepsMiFit'].sum()"
   ]
  },
  {
   "cell_type": "code",
   "execution_count": 31,
   "metadata": {},
   "outputs": [
    {
     "data": {
      "text/plain": [
       "22.079655543595265"
      ]
     },
     "execution_count": 31,
     "metadata": {},
     "output_type": "execute_result"
    }
   ],
   "source": [
    "merged_data['distanceHuawei'].sum() / merged_data['caloriesHuawei'].sum()"
   ]
  },
  {
   "cell_type": "code",
   "execution_count": 32,
   "metadata": {},
   "outputs": [
    {
     "data": {
      "text/plain": [
       "25.97670216198774"
      ]
     },
     "execution_count": 32,
     "metadata": {},
     "output_type": "execute_result"
    }
   ],
   "source": [
    "merged_data['distanceMiFit'].sum() / merged_data['caloriesMiFit'].sum()"
   ]
  },
  {
   "cell_type": "code",
   "execution_count": null,
   "metadata": {},
   "outputs": [],
   "source": []
  }
 ],
 "metadata": {
  "kernelspec": {
   "display_name": "Python 3",
   "language": "python",
   "name": "python3"
  },
  "language_info": {
   "codemirror_mode": {
    "name": "ipython",
    "version": 3
   },
   "file_extension": ".py",
   "mimetype": "text/x-python",
   "name": "python",
   "nbconvert_exporter": "python",
   "pygments_lexer": "ipython3",
   "version": "3.7.1"
  },
  "toc": {
   "base_numbering": 1,
   "nav_menu": {},
   "number_sections": true,
   "sideBar": true,
   "skip_h1_title": false,
   "title_cell": "Table of Contents",
   "title_sidebar": "Contents",
   "toc_cell": false,
   "toc_position": {
    "height": "calc(100% - 180px)",
    "left": "10px",
    "top": "150px",
    "width": "165px"
   },
   "toc_section_display": true,
   "toc_window_display": false
  }
 },
 "nbformat": 4,
 "nbformat_minor": 2
}
